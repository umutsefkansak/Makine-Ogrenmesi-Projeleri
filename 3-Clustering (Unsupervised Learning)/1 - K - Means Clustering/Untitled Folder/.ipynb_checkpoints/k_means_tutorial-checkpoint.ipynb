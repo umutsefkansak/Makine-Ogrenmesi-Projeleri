{
 "cells": [
  {
   "cell_type": "markdown",
   "id": "578be8ef",
   "metadata": {},
   "source": [
    "# İçerik\n",
    "1. K - Means Algoritması Nedir?\n",
    "2. K - Means Algoritması Nasıl Çalışır?\n",
    "3. K - Means Algoritması örneği\n",
    "4. K   Değeri nasıl seçilir?\n",
    "5. K - Means Python Kodu"
   ]
  },
  {
   "cell_type": "markdown",
   "id": "c1ae7b78",
   "metadata": {},
   "source": [
    "# 1. K - Means Algoritması Nedir?"
   ]
  },
  {
   "cell_type": "markdown",
   "id": "1e9ed450",
   "metadata": {},
   "source": [
    "K - Means algoritması, veriyi girilen k değeri kadar kümeye ayırır"
   ]
  },
  {
   "cell_type": "markdown",
   "id": "7fc639bc",
   "metadata": {},
   "source": [
    "# 2. K - Means Algoritması Nasıl Çalışır"
   ]
  },
  {
   "cell_type": "markdown",
   "id": "672076fa",
   "metadata": {},
   "source": [
    "1. K değeri Seçilir. Örneğin K = 2"
   ]
  },
  {
   "cell_type": "markdown",
   "id": "95898afe",
   "metadata": {},
   "source": [
    "2. K değeri kadar random centroid çizilir."
   ]
  },
  {
   "cell_type": "markdown",
   "id": "a703675a",
   "metadata": {},
   "source": [
    "3. Veri noktalarının centroide göre uzaklığı(eucledian distance) hesaplanır ve gruplama yapılır."
   ]
  },
  {
   "cell_type": "markdown",
   "id": "3eb5481f",
   "metadata": {},
   "source": [
    "4. Centroide ait noktaların ortalaması alınır. Centroid ortalama yerine çizilir ve tekrar mesafeye göre gruplama yapılır"
   ]
  },
  {
   "cell_type": "markdown",
   "id": "cfb3021a",
   "metadata": {},
   "source": [
    "5. Centroid yeri değişmeyene kadar 4. adım tekrarlanır."
   ]
  },
  {
   "cell_type": "markdown",
   "id": "7de511d0",
   "metadata": {},
   "source": [
    "# 3. K - Means Algoritması Örneği"
   ]
  },
  {
   "cell_type": "markdown",
   "id": "a649b971",
   "metadata": {},
   "source": [
    "Elimizde resimde görüldüğü gibi bir veri olduğunu varsayalım. K değerimiz de 2 olsun"
   ]
  },
  {
   "cell_type": "markdown",
   "id": "95a7ae9f",
   "metadata": {},
   "source": [
    "![](images/Foto0.png)"
   ]
  },
  {
   "cell_type": "markdown",
   "id": "f03290a2",
   "metadata": {},
   "source": [
    "K değeri kadar rastgele centroid çizelim"
   ]
  },
  {
   "cell_type": "markdown",
   "id": "244ae90c",
   "metadata": {},
   "source": [
    "![](images/Foto1.png)"
   ]
  },
  {
   "cell_type": "markdown",
   "id": "4ec29550",
   "metadata": {},
   "source": [
    "![](Foto1.png)"
   ]
  },
  {
   "cell_type": "markdown",
   "id": "330299eb",
   "metadata": {},
   "source": [
    "Eucledian mesafe hesaplamasına göre veri noktalarının centroide göre uzaklığını hesaplayıp gruplama yapalım.\n",
    "\n",
    "(Kırmızı renge boyananlar kırmızı centroid grubuna, Mavi renge boyananlar mavi centroid grubuna dahil edilmiştir)\n",
    "\n",
    "Not: Mesafeler rastgele göz kararı belirlenmiştir"
   ]
  },
  {
   "cell_type": "markdown",
   "id": "d72cf46b",
   "metadata": {},
   "source": [
    "![](images/Foto2.png)"
   ]
  },
  {
   "cell_type": "markdown",
   "id": "2cd248f0",
   "metadata": {},
   "source": [
    "Verimizin nasıl ayrıldığını görelim"
   ]
  },
  {
   "cell_type": "markdown",
   "id": "d25edafe",
   "metadata": {},
   "source": [
    "![](images/Foto3.png)"
   ]
  },
  {
   "cell_type": "markdown",
   "id": "93ee351c",
   "metadata": {},
   "source": [
    "Bu noktaların ortalaması alınır ve centroid yeni ortalama yerine çizilir.\n",
    "\n",
    "Rastgele kafamızda göz kararı ortalamasını alıp çizelim"
   ]
  },
  {
   "cell_type": "markdown",
   "id": "7f8aea69",
   "metadata": {},
   "source": [
    "![](images/Foto4.png)"
   ]
  },
  {
   "cell_type": "markdown",
   "id": "444f7eaf",
   "metadata": {},
   "source": [
    "Görüldüğü gibi centroidler kendi gurubuna ait noktalar ağırlıklı olarak neredeyse oraya doğru kaydı.\n",
    "\n",
    "Şimdi işlemleri tekrarlayalım ve noktaların centroide olan uzaklığını hesaplayıp gruplama yapalım"
   ]
  },
  {
   "cell_type": "markdown",
   "id": "9ed4ee77",
   "metadata": {},
   "source": [
    "![](images/Foto5.png)"
   ]
  },
  {
   "cell_type": "markdown",
   "id": "35b2c0d7",
   "metadata": {},
   "source": [
    "Verimizin nasıl ayrıldığını görelim"
   ]
  },
  {
   "cell_type": "markdown",
   "id": "c7631386",
   "metadata": {},
   "source": [
    "![](images/Foto6.png)"
   ]
  },
  {
   "cell_type": "markdown",
   "id": "4dabb1d1",
   "metadata": {},
   "source": [
    "Ortalamalarını alıp yeni centroideri çizelim"
   ]
  },
  {
   "cell_type": "markdown",
   "id": "dddf39d9",
   "metadata": {},
   "source": [
    "![](images/Foto7.png)"
   ]
  },
  {
   "cell_type": "markdown",
   "id": "9f9155dc",
   "metadata": {},
   "source": [
    "Şekilde görüldüğü gibi centroidler artık kendi gruplarının tam merkezinde bulunmaktadır. işlemleri tekrarlayalım ve veri noktalarının centroide göre uzaklığını hesaplayıp tekrar kümeleme yapalım. Çünkü centroidlerin yeri değişmeyene kadar işlem devam edilmelidir"
   ]
  },
  {
   "cell_type": "markdown",
   "id": "e42f6923",
   "metadata": {},
   "source": [
    "![](images/Foto8.png)"
   ]
  },
  {
   "cell_type": "markdown",
   "id": "4bdb8589",
   "metadata": {},
   "source": [
    "ortalamasını alıp centroidleri çizdğimizde yerinin değişmediğini görürüz. Yani artık verimiz K=2 değeri kadar kümeye ayrılmıştır"
   ]
  },
  {
   "cell_type": "markdown",
   "id": "52276b77",
   "metadata": {},
   "source": [
    "![](images/Foto9.png)"
   ]
  },
  {
   "cell_type": "markdown",
   "id": "6e4ed7ab",
   "metadata": {},
   "source": [
    "# 4. K Değeri Nasıl Seçilir?"
   ]
  },
  {
   "cell_type": "markdown",
   "id": "5a6a7e1a",
   "metadata": {},
   "source": [
    "En iyi k değerini bulmak için wcss = within cluster sum of squares hesaplanır. Yani her clusterin içindeki veri noktalarının cluster merkezine olan uzaklığının karesinin toplamı hesaplanır. Bu değeri hesaplayıp grafiğini çizdiğimizde elbow(dirsek) olan yer bizim optimum k değerimizdir. Yani bir insan kolu gibi düşündüğümüzde dirsek kısmı en iyi değerdir örnekle görelim"
   ]
  },
  {
   "cell_type": "markdown",
   "id": "9d1ad554",
   "metadata": {},
   "source": [
    "![](images/Foto10.png)"
   ]
  },
  {
   "cell_type": "markdown",
   "id": "3fdaa0cd",
   "metadata": {},
   "source": [
    "burada görüldüğü gibi elbow kısmı 3'tür. Biz de kodumuzda wcss hesaplayıp grafiğini çizeriz daha sonra da grafikten elbow kısmının değerini k değerimiz yaparız"
   ]
  },
  {
   "cell_type": "markdown",
   "id": "f53dd5d4",
   "metadata": {},
   "source": [
    "# 5. K - Means Algoritması Python Kodu"
   ]
  },
  {
   "cell_type": "code",
   "execution_count": 13,
   "id": "e938709b",
   "metadata": {},
   "outputs": [],
   "source": [
    "import numpy as np\n",
    "import pandas as pd\n",
    "import matplotlib.pyplot as plt\n",
    "import warnings\n",
    "warnings.filterwarnings(\"ignore\")"
   ]
  },
  {
   "cell_type": "markdown",
   "id": "f66ee847",
   "metadata": {},
   "source": [
    "Bir veri seti oluşturalım"
   ]
  },
  {
   "cell_type": "code",
   "execution_count": 14,
   "id": "df95aa36",
   "metadata": {},
   "outputs": [],
   "source": [
    "x1 = np.random.normal(25,5,1000)\n",
    "y1 = np.random.normal(25,5,1000)\n",
    "\n",
    "x2 = np.random.normal(60,5,1000)\n",
    "y2 = np.random.normal(60,5,1000)\n",
    "\n",
    "x3 = np.random.normal(60,5,1000)\n",
    "y3 = np.random.normal(15,5,1000)"
   ]
  },
  {
   "cell_type": "markdown",
   "id": "97281a56",
   "metadata": {},
   "source": [
    "x ve y değerleri bir araya getirelim"
   ]
  },
  {
   "cell_type": "code",
   "execution_count": 15,
   "id": "fb00bdd6",
   "metadata": {},
   "outputs": [],
   "source": [
    "x = np.concatenate((x1,x2,x3),axis = 0)\n",
    "y = np.concatenate((y1,y2,y3),axis = 0)"
   ]
  },
  {
   "cell_type": "code",
   "execution_count": 16,
   "id": "6562f72b",
   "metadata": {},
   "outputs": [],
   "source": [
    "dictionary = {\"x\":x,\"y\":y}"
   ]
  },
  {
   "cell_type": "markdown",
   "id": "68aa8b85",
   "metadata": {},
   "source": [
    "Bir araya getirdiğimiz x ve y değerleriyle veri oluşturalım"
   ]
  },
  {
   "cell_type": "code",
   "execution_count": 17,
   "id": "8a111088",
   "metadata": {},
   "outputs": [],
   "source": [
    "data = pd.DataFrame(dictionary)"
   ]
  },
  {
   "cell_type": "code",
   "execution_count": 18,
   "id": "65f9ed33",
   "metadata": {},
   "outputs": [
    {
     "name": "stdout",
     "output_type": "stream",
     "text": [
      "<class 'pandas.core.frame.DataFrame'>\n",
      "RangeIndex: 3000 entries, 0 to 2999\n",
      "Data columns (total 2 columns):\n",
      " #   Column  Non-Null Count  Dtype  \n",
      "---  ------  --------------  -----  \n",
      " 0   x       3000 non-null   float64\n",
      " 1   y       3000 non-null   float64\n",
      "dtypes: float64(2)\n",
      "memory usage: 47.0 KB\n"
     ]
    },
    {
     "data": {
      "text/html": [
       "<div>\n",
       "<style scoped>\n",
       "    .dataframe tbody tr th:only-of-type {\n",
       "        vertical-align: middle;\n",
       "    }\n",
       "\n",
       "    .dataframe tbody tr th {\n",
       "        vertical-align: top;\n",
       "    }\n",
       "\n",
       "    .dataframe thead th {\n",
       "        text-align: right;\n",
       "    }\n",
       "</style>\n",
       "<table border=\"1\" class=\"dataframe\">\n",
       "  <thead>\n",
       "    <tr style=\"text-align: right;\">\n",
       "      <th></th>\n",
       "      <th>x</th>\n",
       "      <th>y</th>\n",
       "    </tr>\n",
       "  </thead>\n",
       "  <tbody>\n",
       "    <tr>\n",
       "      <th>0</th>\n",
       "      <td>23.544361</td>\n",
       "      <td>21.971860</td>\n",
       "    </tr>\n",
       "    <tr>\n",
       "      <th>1</th>\n",
       "      <td>21.824547</td>\n",
       "      <td>24.663674</td>\n",
       "    </tr>\n",
       "    <tr>\n",
       "      <th>2</th>\n",
       "      <td>23.778155</td>\n",
       "      <td>17.392155</td>\n",
       "    </tr>\n",
       "    <tr>\n",
       "      <th>3</th>\n",
       "      <td>34.938437</td>\n",
       "      <td>21.844907</td>\n",
       "    </tr>\n",
       "    <tr>\n",
       "      <th>4</th>\n",
       "      <td>32.688522</td>\n",
       "      <td>27.375776</td>\n",
       "    </tr>\n",
       "  </tbody>\n",
       "</table>\n",
       "</div>"
      ],
      "text/plain": [
       "           x          y\n",
       "0  23.544361  21.971860\n",
       "1  21.824547  24.663674\n",
       "2  23.778155  17.392155\n",
       "3  34.938437  21.844907\n",
       "4  32.688522  27.375776"
      ]
     },
     "execution_count": 18,
     "metadata": {},
     "output_type": "execute_result"
    }
   ],
   "source": [
    "data.info()\n",
    "data.head()"
   ]
  },
  {
   "cell_type": "markdown",
   "id": "0f26818d",
   "metadata": {},
   "source": [
    "Veri noktalarımızı görelim"
   ]
  },
  {
   "cell_type": "code",
   "execution_count": 19,
   "id": "cd2ac79c",
   "metadata": {},
   "outputs": [
    {
     "data": {
      "image/png": "[encoded data removed]",
      "text/plain": [
       "<Figure size 640x480 with 1 Axes>"
      ]
     },
     "metadata": {},
     "output_type": "display_data"
    }
   ],
   "source": [
    "plt.scatter(data.x,data.y)\n",
    "plt.xlabel(\"X\")\n",
    "plt.ylabel(\"Y\")\n",
    "plt.show()"
   ]
  },
  {
   "cell_type": "markdown",
   "id": "d897d351",
   "metadata": {},
   "source": [
    "Şimdi k değerini nasıl seçeceğimizi kodla görelim"
   ]
  },
  {
   "cell_type": "code",
   "execution_count": 20,
   "id": "01f4013a",
   "metadata": {},
   "outputs": [],
   "source": [
    "from sklearn.cluster import KMeans\n",
    "\n",
    "wcss = []\n",
    "for i in range(1,15):\n",
    "    kmeans = KMeans(n_clusters=i)\n",
    "    kmeans.fit(data)\n",
    "    wcss.append(kmeans.inertia_)"
   ]
  },
  {
   "cell_type": "code",
   "execution_count": 21,
   "id": "1198d0f5",
   "metadata": {},
   "outputs": [
    {
     "data": {
      "image/png": "[encoded data removed]",
      "text/plain": [
       "<Figure size 640x480 with 1 Axes>"
      ]
     },
     "metadata": {},
     "output_type": "display_data"
    }
   ],
   "source": [
    "plt.plot(range(1,15),wcss)\n",
    "plt.xlabel(\"Number of k(Cluster) value\")\n",
    "plt.ylabel(\"Wcss\")\n",
    "plt.show()"
   ]
  },
  {
   "cell_type": "markdown",
   "id": "0f2de85f",
   "metadata": {},
   "source": [
    "Şekilde görüldüğü gibi elbow olan yerin değeri 3'tür. Yani optimum cluster sayımız 3'tür. K değerimizi 3 seçebiliriz"
   ]
  },
  {
   "cell_type": "markdown",
   "id": "f5cbe253",
   "metadata": {},
   "source": [
    "Modelimizi geliştirelim"
   ]
  },
  {
   "cell_type": "code",
   "execution_count": 22,
   "id": "e6f729ce",
   "metadata": {},
   "outputs": [],
   "source": [
    "kmeans = KMeans(n_clusters=3)\n",
    "clusters = kmeans.fit_predict(data)\n",
    "data[\"label\"] = clusters"
   ]
  },
  {
   "cell_type": "code",
   "execution_count": 23,
   "id": "5883902a",
   "metadata": {},
   "outputs": [
    {
     "data": {
      "text/html": [
       "<div>\n",
       "<style scoped>\n",
       "    .dataframe tbody tr th:only-of-type {\n",
       "        vertical-align: middle;\n",
       "    }\n",
       "\n",
       "    .dataframe tbody tr th {\n",
       "        vertical-align: top;\n",
       "    }\n",
       "\n",
       "    .dataframe thead th {\n",
       "        text-align: right;\n",
       "    }\n",
       "</style>\n",
       "<table border=\"1\" class=\"dataframe\">\n",
       "  <thead>\n",
       "    <tr style=\"text-align: right;\">\n",
       "      <th></th>\n",
       "      <th>x</th>\n",
       "      <th>y</th>\n",
       "      <th>label</th>\n",
       "    </tr>\n",
       "  </thead>\n",
       "  <tbody>\n",
       "    <tr>\n",
       "      <th>672</th>\n",
       "      <td>26.250334</td>\n",
       "      <td>18.094608</td>\n",
       "      <td>2</td>\n",
       "    </tr>\n",
       "    <tr>\n",
       "      <th>1709</th>\n",
       "      <td>65.769351</td>\n",
       "      <td>61.662401</td>\n",
       "      <td>0</td>\n",
       "    </tr>\n",
       "    <tr>\n",
       "      <th>2989</th>\n",
       "      <td>56.533445</td>\n",
       "      <td>15.153535</td>\n",
       "      <td>1</td>\n",
       "    </tr>\n",
       "    <tr>\n",
       "      <th>151</th>\n",
       "      <td>26.309311</td>\n",
       "      <td>24.821661</td>\n",
       "      <td>2</td>\n",
       "    </tr>\n",
       "    <tr>\n",
       "      <th>1201</th>\n",
       "      <td>63.324381</td>\n",
       "      <td>56.986886</td>\n",
       "      <td>0</td>\n",
       "    </tr>\n",
       "  </tbody>\n",
       "</table>\n",
       "</div>"
      ],
      "text/plain": [
       "              x          y  label\n",
       "672   26.250334  18.094608      2\n",
       "1709  65.769351  61.662401      0\n",
       "2989  56.533445  15.153535      1\n",
       "151   26.309311  24.821661      2\n",
       "1201  63.324381  56.986886      0"
      ]
     },
     "execution_count": 23,
     "metadata": {},
     "output_type": "execute_result"
    }
   ],
   "source": [
    "data.sample(5)"
   ]
  },
  {
   "cell_type": "markdown",
   "id": "e76db8dd",
   "metadata": {},
   "source": [
    "Şimdi clusterlarımızı şekil üzerinde görelim"
   ]
  },
  {
   "cell_type": "code",
   "execution_count": 24,
   "id": "67c63827",
   "metadata": {},
   "outputs": [
    {
     "data": {
      "image/png": "[encoded data removed]",
      "text/plain": [
       "<Figure size 640x480 with 1 Axes>"
      ]
     },
     "metadata": {},
     "output_type": "display_data"
    }
   ],
   "source": [
    "plt.scatter(data.x[data.label == 0],data.y[data.label == 0])\n",
    "plt.scatter(data.x[data.label == 1],data.y[data.label == 1])\n",
    "plt.scatter(data.x[data.label == 2],data.y[data.label == 2])\n",
    "plt.show()"
   ]
  },
  {
   "cell_type": "markdown",
   "id": "d67e926c",
   "metadata": {},
   "source": [
    "# 6. Sonuç"
   ]
  },
  {
   "cell_type": "markdown",
   "id": "38679a81",
   "metadata": {},
   "source": [
    "Sonuç olarak verimizi 3 label'a ayırmış olduk"
   ]
  }
 ],
 "metadata": {
  "kernelspec": {
   "display_name": "Python 3 (ipykernel)",
   "language": "python",
   "name": "python3"
  },
  "language_info": {
   "codemirror_mode": {
    "name": "ipython",
    "version": 3
   },
   "file_extension": ".py",
   "mimetype": "text/x-python",
   "name": "python",
   "nbconvert_exporter": "python",
   "pygments_lexer": "ipython3",
   "version": "3.11.5"
  }
 },
 "nbformat": 4,
 "nbformat_minor": 5
}
